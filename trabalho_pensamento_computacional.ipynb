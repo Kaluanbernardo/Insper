{
  "nbformat": 4,
  "nbformat_minor": 0,
  "metadata": {
    "colab": {
      "name": "trabalho_pensamento_computacional.ipynb",
      "provenance": [],
      "collapsed_sections": []
    },
    "kernelspec": {
      "name": "python3",
      "display_name": "Python 3"
    },
    "language_info": {
      "name": "python"
    }
  },
  "cells": [
    {
      "cell_type": "markdown",
      "metadata": {
        "id": "gS8w3fuId9hz"
      },
      "source": [
        "**Objetivo**: Checar quais são todas as propostas da Câmara dos Deputados que citam \"Marco Civil\" e checar suas ementas, ano em que foram propostas e qual seu código identificador.\n",
        "\n",
        "**Método**: Utilizando a nova API da Câmara dos Deputados, é possível pedir todos esses dados em formato JSON."
      ]
    },
    {
      "cell_type": "code",
      "metadata": {
        "id": "JdN-O5LhNbb-"
      },
      "source": [
        "import requests\n",
        "url = \"https://dadosabertos.camara.leg.br/api/v2/proposicoes?keywords=marco%20civil&dataInicio=2010-01-01&ordem=ASC&ordenarPor=id\"\n",
        "resposta = requests.get(url).json()"
      ],
      "execution_count": 9,
      "outputs": []
    },
    {
      "cell_type": "markdown",
      "metadata": {
        "id": "zozoupEKerlV"
      },
      "source": [
        "O arquivo traz uma série de dados dentro da lista \"dados\". Nesse caso, solicitei \"id\", \"ano\" e \"ementa\"."
      ]
    },
    {
      "cell_type": "code",
      "metadata": {
        "colab": {
          "base_uri": "https://localhost:8080/"
        },
        "id": "nfLjnBglTMfp",
        "outputId": "b716a011-e57f-4301-aa17-4cfc2e760082"
      },
      "source": [
        "for linha in resposta[\"dados\"]:\n",
        "  print(linha[\"id\"], linha[\"ano\"], linha[\"ementa\"])"
      ],
      "execution_count": 10,
      "outputs": [
        {
          "output_type": "stream",
          "name": "stdout",
          "text": [
            "1194290 2015 Acrescenta dispositivo à Lei nº 12.965, de 23 de abril de 2014, que estabelece princípios, garantias, direitos e deveres para o uso da Internet no Brasil.\n",
            "1227967 2015 Altera a Lei nº 12.965, de 23 de abril de 2014 - Marco Civil da Internet, dispondo sobre o armazenamento de dados de usuários inativos na rede mundial de computadores.\n",
            "1279451 2015 Torna mais rigorosa a punição dos crimes contra a honra cometidos mediantes disponibilização de conteúdo na internet ou que ensejarem a prática de atos que causem a morte da vítima.\n",
            "1306687 2015 Acrescenta o § 5º ao art. 15 da Lei nº 12.965, de 23 de abril de 2014, para estabelecer a obrigatoriedade de guarda de dados adicionais de usuários na provisão de aplicações que permitam a postagem de informações por terceiros na internet.\n",
            "1594840 2015 Acrescenta artigos à Lei nº 12.965, de 23 de abril de 2014, para obrigar os provedores de conexão e os provedores de aplicação de internet a criarem centros de atenção aos usuários compulsivos de serviços de internet e de redes sociais\n",
            "1672348 2015 Modifica a Lei nº 12.965, de 23 de abril de 2014, obrigando os provedores de aplicações de internet a remover, por solicitação do interessado, referências a registros sobre sua pessoa na internet, nas condições que especifica.\n",
            "1806561 2015 Criminaliza o ato de produzir, vender ou expor à venda, adquirir, divulgar, fornecer ou dar acesso, ainda que gratuitamente, a dado pessoal de terceiro, através da internet, sem consentimento do titular ou sem autorização legal.\n",
            "2016894 2015 Altera o Marco Civil da Internet, Lei no 12.965, de 23 de abril de 2014, dispondo sobre a guarda dos registros de conexão à internet de sistema autônomo.\n",
            "2017526 2015 Altera a Lei nº 12.965, de 23 de abril de 2014, no sentido de estabelecer a obrigatoriedade de divulgação na internet de fotos de crianças, adolescentes e adultos desaparecidos.\n",
            "2082276 2016 Altera a Lei nº 12.965 de 23 de abril de 2014, que estabelece princípios, garantias, direitos e deveres para o uso da Internet no Brasil.\n",
            "2082491 2016 Acrescenta dispositivo à Lei nº 12.965, de 23 de abril de 2014 - Marco Civil da Internet -, e dá outras providências.\n",
            "2082545 2016 Altera a Lei nº 12.965/2014, de 23 de abril de 2014, para vedar aos provedores de conexão, na prestação de serviços de acesso à Internet fixa, a redução de velocidade, suspensão de serviço ou de cobrança de tráfego excedente após o esgotamento da franquia.\n",
            "2082564 2016 Proíbe a redução de velocidade, a suspensão do serviço ou qualquer forma de limitação, total ou parcial, de tráfego de dados de internet fixa, residencial ou empresarial, salvo na hipótese do art. 7º, IV, da Lei 12.965, de 23 de abril de 2014, e dá outras providências.\n",
            "2082655 2016 Insere os incisos XIV e XV no Art. 7° da Lei nº 12.965 de 23 de abril de 2014, estabelecendo ferramentas de acompanhamento de consumo de banda larga contratada.\n",
            "2082728 2016 Acrescenta o § 4º, como os incisos I a IV, ao art. 9º da Lei nº 12.965, de 23 de abril de 2014, para proibir a cobrança de valores extras e diminuição de qualidade do serviço, baseados no tráfego de dados e estabelecer que os pacotes de provimento de internet devem ser ilimitados.\n"
          ]
        }
      ]
    },
    {
      "cell_type": "markdown",
      "metadata": {
        "id": "avo0r3yqft2A"
      },
      "source": [
        "Na sequência, salvei todos os IDs em uma lista para que eu possa fazer outras requisições a partir de cada projeto."
      ]
    },
    {
      "cell_type": "code",
      "metadata": {
        "id": "xWdH6kk-t6bF"
      },
      "source": [
        "lista_ids = []\n",
        "for linha in resposta[\"dados\"]:\n",
        "  lista_ids.append(linha[\"id\"])"
      ],
      "execution_count": 3,
      "outputs": []
    },
    {
      "cell_type": "code",
      "metadata": {
        "colab": {
          "base_uri": "https://localhost:8080/"
        },
        "id": "3ntE3SkoNdxO",
        "outputId": "2b2816d0-b5d5-45b9-8c9d-6f144c140250"
      },
      "source": [
        "lista_ids"
      ],
      "execution_count": 4,
      "outputs": [
        {
          "output_type": "execute_result",
          "data": {
            "text/plain": [
              "[1194290,\n",
              " 1227967,\n",
              " 1279451,\n",
              " 1306687,\n",
              " 1594840,\n",
              " 1672348,\n",
              " 1806561,\n",
              " 2016894,\n",
              " 2017526,\n",
              " 2082276,\n",
              " 2082491,\n",
              " 2082545,\n",
              " 2082564,\n",
              " 2082655,\n",
              " 2082728]"
            ]
          },
          "metadata": {},
          "execution_count": 4
        }
      ]
    },
    {
      "cell_type": "markdown",
      "metadata": {
        "id": "fURmtzpDgLXc"
      },
      "source": [
        "Para ver, por exemplo, quais são as propostas relacionadas a cada um dos projetos, é possível extrair a lista de links anterior e criar uma nova lista personalizando a URL com cada um dos IDs."
      ]
    },
    {
      "cell_type": "code",
      "metadata": {
        "id": "NgDb88fvSzHQ"
      },
      "source": [
        "lista_links = []\n",
        "for item in lista_ids:\n",
        "    lista_links.append([f\"https://dadosabertos.camara.leg.br/api/v2/proposicoes/{item}/relacionadas\"])"
      ],
      "execution_count": null,
      "outputs": []
    },
    {
      "cell_type": "markdown",
      "metadata": {
        "id": "tpgLa3C2gZdy"
      },
      "source": [
        "O resultado fica salvo em uma lista:"
      ]
    },
    {
      "cell_type": "code",
      "metadata": {
        "colab": {
          "base_uri": "https://localhost:8080/"
        },
        "id": "iaZb5-TO9QQY",
        "outputId": "74e0184a-1f22-4079-ac93-7ce3f3c4b814"
      },
      "source": [
        "print(lista_links)"
      ],
      "execution_count": null,
      "outputs": [
        {
          "output_type": "stream",
          "name": "stdout",
          "text": [
            "[['https://dadosabertos.camara.leg.br/api/v2/proposicoes/1194290/relacionadas'], ['https://dadosabertos.camara.leg.br/api/v2/proposicoes/1227967/relacionadas'], ['https://dadosabertos.camara.leg.br/api/v2/proposicoes/1279451/relacionadas'], ['https://dadosabertos.camara.leg.br/api/v2/proposicoes/1306687/relacionadas'], ['https://dadosabertos.camara.leg.br/api/v2/proposicoes/1594840/relacionadas'], ['https://dadosabertos.camara.leg.br/api/v2/proposicoes/1672348/relacionadas'], ['https://dadosabertos.camara.leg.br/api/v2/proposicoes/1806561/relacionadas'], ['https://dadosabertos.camara.leg.br/api/v2/proposicoes/2016894/relacionadas'], ['https://dadosabertos.camara.leg.br/api/v2/proposicoes/2017526/relacionadas'], ['https://dadosabertos.camara.leg.br/api/v2/proposicoes/2082276/relacionadas'], ['https://dadosabertos.camara.leg.br/api/v2/proposicoes/2082491/relacionadas'], ['https://dadosabertos.camara.leg.br/api/v2/proposicoes/2082545/relacionadas'], ['https://dadosabertos.camara.leg.br/api/v2/proposicoes/2082564/relacionadas'], ['https://dadosabertos.camara.leg.br/api/v2/proposicoes/2082655/relacionadas'], ['https://dadosabertos.camara.leg.br/api/v2/proposicoes/2082728/relacionadas']]\n"
          ]
        }
      ]
    },
    {
      "cell_type": "markdown",
      "metadata": {
        "id": "HAE0xGRmgeDT"
      },
      "source": [
        "Quando eu quiser checar as propostas relacionadas a determinado projeto, basta eu repetir o processo usando um dos links salvos na lista acima:"
      ]
    },
    {
      "cell_type": "code",
      "metadata": {
        "id": "UcdW8MVY_mHW"
      },
      "source": [
        "url = \"https://dadosabertos.camara.leg.br/api/v2/proposicoes/1194290/relacionadas\"\n",
        "resposta_link = requests.get(url).json()"
      ],
      "execution_count": null,
      "outputs": []
    },
    {
      "cell_type": "code",
      "metadata": {
        "colab": {
          "base_uri": "https://localhost:8080/"
        },
        "id": "Sq-v17M4_ucu",
        "outputId": "cf53e7ff-634e-4fa7-9f5f-9908ba63eaa5"
      },
      "source": [
        "for link in resposta_link[\"dados\"]:\n",
        "  print(link[\"id\"], link[\"ano\"], link[\"ementa\"])"
      ],
      "execution_count": null,
      "outputs": [
        {
          "output_type": "stream",
          "name": "stdout",
          "text": [
            "2136611 0 Parecer do Relator, Dep. Marcos Rogério (DEM-RO), pela constitucionalidade, juridicidade, técnica legislativa e, no mérito, pela aprovação deste e da Emenda da Comissão de Ciência e Tecnologia, Comunicação e Informática, com substitutivo; e pela constitucionalidade, juridicidade, técnica legislativa e, no mérito, pela rejeição da emenda apresentada ao substitutivo.\n",
            "2085392 0 Parecer do Relator, Dep. Marcos Rogério (DEM-RO), pela constitucionalidade, juridicidade e técnica legislativa deste e da Emenda da Comissão de Ciência, Tecnologia, Comunicação e Informática, com Subemenda saneadora de técnica legislativa.\n",
            "2116008 0 Parecer do Relator, Dep. Marcos Rogério (DEM-RO), pela constitucionalidade, juridicidade, técnica legislativa e, no mérito, pela aprovação deste e da Emenda da Comissão de Ciência e Tecnologia, Comunicação e Informática, com Substitutivo.\n",
            "1579591 0 Aprovado por Unanimidade o Parecer.. \r\n",
            "Parecer do Relator, Dep. Vitor Lippi (PSDB-SP), pela aprovação, com emenda.\n",
            "1570849 0 Parecer do Relator, Dep. Vitor Lippi (PSDB-SP), pela aprovação, com emenda.\n",
            "2116009 0 Altera a Lei nº 12.965, de 23 de abril de 2014 - Marco Civil da Internet, dispondo sobre o armazenamento de dados de usuários na rede mundial de computadores.\n",
            "2117855 0 Suprima-se, na integralidade, o artigo 3º do Substitutivo ao Projeto de lei nº 1331/16.\n",
            "1594196 0 Altera a Lei nº 12.965, de 23 de abril de 2014 - Marco Civil da internet, dispondo sobre o armazenamento de dados de usuários inativos na rede mundial de computadores.\n",
            "2085421 0 SUBEMENDA nº     (de técnica legislativa) \r\n",
            "Dê-se à Emenda n. 1 da Comissão de Ciência e Tecnologia, Comunicação e Informática a seguinte redação:\r\n",
            "Dê-se ao art. 2º do projeto a seguinte redação:\r\n",
            "\"Art. 2º O art. 7º da Lei n.º 12.965, de 23 de abril de 2014, passa a vigorar com a seguinte redação: \r\n",
            "\"Art.7º........................................................................................................................................................................................................... \r\n",
            "X - exclusão definitiva dos dados pessoais que tiver fornecido a determinada aplicação de internet, a seu requerimento, ou, em se tratando de morto ou de ausente, a requerimento do cônjuge, dos ascendentes ou dos descendentes, até o terceiro grau, ao término da relação entre as partes, ressalvadas as hipóteses de guarda obrigatória de registros previstas nesta Lei;\r\n",
            "................................................................................................................\r\n",
            "Parágrafo único. A solicitação de exclusão de que trata o inciso X:\r\n",
            "I - poderá ser feita por meio eletrônico, acompanhada de cópia digitalizada da declaração judicial de ausência, no caso de ausente, ou da certidão de óbito, no caso de morto; \r\n",
            "II - será executada pelo responsável pela aplicação da Internet em um prazo máximo de 7 (sete) dias, contados a partir da data de recebimento.(NR)\"\n",
            "1570850 0 \n",
            "2111945 2016 Requer revisão de despacho de distribuição aposto ao Projeto de Lei nº 1.331 de 2015.\n",
            "2141051 2017 Requer a revisão do despacho proferido no PL 1.331/2015, para que a Comissão de Cultura (CCULT) aprecie sobre o mérito da proposição\n"
          ]
        }
      ]
    }
  ]
}